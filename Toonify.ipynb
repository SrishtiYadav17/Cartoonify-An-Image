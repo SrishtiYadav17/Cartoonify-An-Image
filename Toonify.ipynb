{
  "nbformat": 4,
  "nbformat_minor": 0,
  "metadata": {
    "colab": {
      "name": "Toonify.ipynb",
      "provenance": [],
      "authorship_tag": "ABX9TyNZv+siF9FB+RgfyR1e2eAx",
      "include_colab_link": true
    },
    "kernelspec": {
      "name": "python3",
      "display_name": "Python 3"
    },
    "language_info": {
      "name": "python"
    }
  },
  "cells": [
    {
      "cell_type": "markdown",
      "metadata": {
        "id": "view-in-github",
        "colab_type": "text"
      },
      "source": [
        "<a href=\"https://colab.research.google.com/github/SrishtiYadav17/Cartoonify-An-Image/blob/main/Toonify.ipynb\" target=\"_parent\"><img src=\"https://colab.research.google.com/assets/colab-badge.svg\" alt=\"Open In Colab\"/></a>"
      ]
    },
    {
      "cell_type": "code",
      "metadata": {
        "id": "QGBh3kNXv8sg"
      },
      "source": [
        "import cv2\n",
        "import numpy as np\n",
     
        "from google.colab import files\n",
        "from google.colab import drive\n",
        "from google.colab.patches import cv2_imshow"
      ],
      "execution_count": 12,
      "outputs": []
    },
    {
      "cell_type": "code",
      "metadata": {
        "id": "6ZO8l07BLSd8"
      },
      "source": [
        "img_original = cv2.imread('/content/srishti_yadav.jpeg')\n",
        "img_resize = cv2.resize(img_original, (300, 500), interpolation=cv2.INTER_CUBIC)\n",
        "\n",
        "for i in range(50):\n",
        "    img_bilateral_filter = cv2.bilateralFilter(img_resize, 9, 9, 7)\n",
        "\n",
        "img_gray = cv2.cvtColor(img_bilateral_filter, cv2.COLOR_BGR2GRAY)\n",
        "img_median_blur = cv2.medianBlur(img_gray, 5)\n",
        "img_adaptive_threshold = cv2.adaptiveThreshold(img_median_blur, 255, cv2.ADAPTIVE_THRESH_MEAN_C, cv2.THRESH_BINARY, 11, 2)\n",
        "img_color = cv2.cvtColor(img_adaptive_threshold, cv2.COLOR_GRAY2BGR)\n",
        "img_cartoon = cv2.bitwise_and(img_resize, img_color)\n",
        "\n",
        "cv2_imshow(img_resize)\n",
        "cv2_imshow(img_cartoon)\n",
        "cv2.waitKey(0)\n",
        "cv2.destroyAllWindows()"
      ],
      "execution_count": null,
      "outputs": []
    },
    {
      "cell_type": "code",
      "metadata": {
        "id": "xaHdQJlLL1z4"
      },
      "source": [
        ""
      ],
      "execution_count": null,
      "outputs": []
    }
  ]
}
